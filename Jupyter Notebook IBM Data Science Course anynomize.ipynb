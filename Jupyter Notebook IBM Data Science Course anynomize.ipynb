{
    "cells": [
        {
            "metadata": {},
            "cell_type": "markdown",
            "source": "## Description\nThis is climate data on anomalies (deviation from the mean 1951-1980 temperatures)"
        },
        {
            "metadata": {},
            "cell_type": "code",
            "source": "\nimport types\nimport pandas as pd\nfrom botocore.client import Config\nimport ibm_boto3\n\ndef __iter__(self): return 0\n\n# @hidden_cell\n# The following code accesses a file in your IBM Cloud Object Storage. It includes your credentials.\n# You might want to remove those credentials before you share the notebook.\nclient_65f58462792448a88b291edce0a3d01d = ibm_boto3.client(service_name='s3',\n    ibm_api_key_id='xxxxxxx-xxxxxxxxxxxxxxxxxxxxxxxxxx-xxx',\n    ibm_auth_endpoint=\"https://iam.cloud.ibm.com/oidc/token\",\n    config=Config(signature_version='oauth'),\n    endpoint_url='https://s3.eu-geo.objectstorage.xxxxxxxxxx.networklayer.com')\n\nbody = client_xxxxxxxxxxxxxxxxxxxxxxxxxxxxx.get_object(Bucket='ibmdatasciencecourse-donotdelete-xx-xxxxxxxxxxxxx',Key='annual_csv.csv')['Body']\n# add missing __iter__ method, so pandas accepts body as file-like object\nif not hasattr(body, \"__iter__\"): body.__iter__ = types.MethodType( __iter__, body )\n\ndf_data_1 = pd.read_csv(body)\ndf_data_1.head()\n",
            "execution_count": 1,
            "outputs": [
                {
                    "output_type": "execute_result",
                    "execution_count": 1,
                    "data": {
                        "text/plain": "    Source  Year    Mean\n0     GCAG  2016  0.9363\n1  GISTEMP  2016  0.9900\n2     GCAG  2015  0.8998\n3  GISTEMP  2015  0.8700\n4     GCAG  2014  0.7408",
                        "text/html": "<div>\n<style scoped>\n    .dataframe tbody tr th:only-of-type {\n        vertical-align: middle;\n    }\n\n    .dataframe tbody tr th {\n        vertical-align: top;\n    }\n\n    .dataframe thead th {\n        text-align: right;\n    }\n</style>\n<table border=\"1\" class=\"dataframe\">\n  <thead>\n    <tr style=\"text-align: right;\">\n      <th></th>\n      <th>Source</th>\n      <th>Year</th>\n      <th>Mean</th>\n    </tr>\n  </thead>\n  <tbody>\n    <tr>\n      <th>0</th>\n      <td>GCAG</td>\n      <td>2016</td>\n      <td>0.9363</td>\n    </tr>\n    <tr>\n      <th>1</th>\n      <td>GISTEMP</td>\n      <td>2016</td>\n      <td>0.9900</td>\n    </tr>\n    <tr>\n      <th>2</th>\n      <td>GCAG</td>\n      <td>2015</td>\n      <td>0.8998</td>\n    </tr>\n    <tr>\n      <th>3</th>\n      <td>GISTEMP</td>\n      <td>2015</td>\n      <td>0.8700</td>\n    </tr>\n    <tr>\n      <th>4</th>\n      <td>GCAG</td>\n      <td>2014</td>\n      <td>0.7408</td>\n    </tr>\n  </tbody>\n</table>\n</div>"
                    },
                    "metadata": {}
                }
            ]
        },
        {
            "metadata": {},
            "cell_type": "code",
            "source": "",
            "execution_count": null,
            "outputs": []
        }
    ],
    "metadata": {
        "kernelspec": {
            "name": "python3",
            "display_name": "Python 3.6",
            "language": "python"
        },
        "language_info": {
            "name": "python",
            "version": "3.6.9",
            "mimetype": "text/x-python",
            "codemirror_mode": {
                "name": "ipython",
                "version": 3
            },
            "pygments_lexer": "ipython3",
            "nbconvert_exporter": "python",
            "file_extension": ".py"
        }
    },
    "nbformat": 4,
    "nbformat_minor": 1
}